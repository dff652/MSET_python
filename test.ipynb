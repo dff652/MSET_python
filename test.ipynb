{
 "cells": [
  {
   "cell_type": "code",
   "execution_count": 6,
   "id": "d3238db3-64a2-48d5-8f6c-4d03534f9173",
   "metadata": {},
   "outputs": [],
   "source": [
    "%load_ext autoreload\n",
    "%autoreload 2"
   ]
  },
  {
   "cell_type": "code",
   "execution_count": 7,
   "id": "1387446b-5ef0-442b-b245-ba1a32e3cbe5",
   "metadata": {},
   "outputs": [],
   "source": [
    "from Model import Traindata,Testdata,Faultdata,MemoryMat_train"
   ]
  },
  {
   "cell_type": "code",
   "execution_count": 8,
   "id": "301b42d5",
   "metadata": {},
   "outputs": [],
   "source": [
    "# name_list=['ae_D0_temp','ae_D1_temp','ae_D2_temp']\n",
    "name_list=['ae_D0_temp']"
   ]
  },
  {
   "cell_type": "code",
   "execution_count": 9,
   "id": "cfb6bbbb",
   "metadata": {},
   "outputs": [
    {
     "name": "stdout",
     "output_type": "stream",
     "text": [
      "已归一化的训练集，大小为： (187474, 14)\n"
     ]
    }
   ],
   "source": [
    "np_D,np_Dmax,np_Dmin=Traindata(name_list,if_nor=True)"
   ]
  },
  {
   "cell_type": "code",
   "execution_count": 10,
   "id": "45a6191b",
   "metadata": {},
   "outputs": [
    {
     "data": {
      "text/plain": [
       "array([[0.84428119, 0.9257672 , 0.58668205, ..., 0.43149801, 0.78565379,\n",
       "        0.56338413],\n",
       "       [0.84428119, 0.91027231, 0.58654992, ..., 0.43493791, 0.78565379,\n",
       "        0.56346503],\n",
       "       [0.84428119, 0.91027231, 0.58668205, ..., 0.43493791, 0.78565379,\n",
       "        0.56365654],\n",
       "       ...,\n",
       "       [0.71079762, 0.9748534 , 0.25841365, ..., 0.36622314, 0.57139789,\n",
       "        0.18213191],\n",
       "       [0.71079762, 0.97405693, 0.25701588, ..., 0.36622314, 0.57139789,\n",
       "        0.18196947],\n",
       "       [0.7085892 , 0.95392806, 0.25427309, ..., 0.36622314, 0.57139789,\n",
       "        0.1819562 ]])"
      ]
     },
     "execution_count": 10,
     "metadata": {},
     "output_type": "execute_result"
    }
   ],
   "source": [
    "np_D"
   ]
  },
  {
   "cell_type": "code",
   "execution_count": 7,
   "id": "007ec733",
   "metadata": {},
   "outputs": [
    {
     "data": {
      "text/plain": [
       "(187474, 14)"
      ]
     },
     "execution_count": 7,
     "metadata": {},
     "output_type": "execute_result"
    }
   ],
   "source": [
    "np_D.shape"
   ]
  },
  {
   "cell_type": "code",
   "execution_count": null,
   "id": "4d83184d",
   "metadata": {},
   "outputs": [
    {
     "data": {
      "text/plain": [
       "array([ 79.99313 ,   3.035856,   8.457247,  45.15796 ,   9.341255,\n",
       "        20.43961 ,  10.50764 ,   5.295013,  36.03744 ,  76.2201  ,\n",
       "        49.87888 ,  39.80069 ,  33.4658  , 351.6768  ])"
      ]
     },
     "execution_count": 6,
     "metadata": {},
     "output_type": "execute_result"
    }
   ],
   "source": [
    "np_Dmax"
   ]
  },
  {
   "cell_type": "code",
   "execution_count": 10,
   "id": "b6a3351d",
   "metadata": {},
   "outputs": [],
   "source": [
    "Kobs=Faultdata('ae_ver_temp',np_Dmax,np_Dmin,if_nor=True)"
   ]
  },
  {
   "cell_type": "code",
   "execution_count": 11,
   "id": "69325c45",
   "metadata": {},
   "outputs": [
    {
     "data": {
      "text/plain": [
       "array([[ 0.69457899,  0.66508894,  0.71014813, ...,  1.51080893,\n",
       "         1.77465501,  0.50694914],\n",
       "       [ 0.69457899,  0.66429247,  0.70389772, ...,  1.51080893,\n",
       "         1.77465501,  0.50573938],\n",
       "       [ 0.69457899,  0.70049547,  0.70344938, ...,  1.51080893,\n",
       "         1.77465501,  0.504261  ],\n",
       "       ...,\n",
       "       [-0.01391297,  0.96114839,  0.24161404, ...,  1.50046838,\n",
       "         1.78729138,  0.61460782],\n",
       "       [-0.01830723,  0.98127726,  0.24193052, ...,  1.50046838,\n",
       "         1.78729138,  0.61244303],\n",
       "       [-0.01830723,  0.9938759 ,  0.24193052, ...,  1.50046838,\n",
       "         1.78729138,  0.60975173]])"
      ]
     },
     "execution_count": 11,
     "metadata": {},
     "output_type": "execute_result"
    }
   ],
   "source": [
    "Kobs"
   ]
  },
  {
   "cell_type": "code",
   "execution_count": null,
   "id": "e99634ab",
   "metadata": {},
   "outputs": [],
   "source": []
  },
  {
   "cell_type": "markdown",
   "id": "472acc7b",
   "metadata": {},
   "source": [
    "flowchart TD\n",
    "    A[收集正常数据] --> B[归一化处理]\n",
    "    B --> C[建立记忆矩阵]\n",
    "    C --> D[收集新观测数据]\n",
    "    D --> E[归一化处理]\n",
    "    E --> F[MSET状态估计]\n",
    "    F --> G[计算相似度]\n",
    "    G --> H[动态阈值判断]\n",
    "    H --异常点--> I[误差贡献率分析]\n",
    "    H --正常点--> J[继续监测]"
   ]
  },
  {
   "cell_type": "markdown",
   "id": "90f411e0",
   "metadata": {},
   "source": []
  },
  {
   "cell_type": "code",
   "execution_count": 11,
   "id": "a56918a1",
   "metadata": {},
   "outputs": [
    {
     "name": "stdout",
     "output_type": "stream",
     "text": [
      "memorymat: (1231, 14)\n"
     ]
    }
   ],
   "source": [
    "memorymat=MemoryMat_train(np_D,'test.npy')"
   ]
  },
  {
   "cell_type": "code",
   "execution_count": null,
   "id": "0b4be529",
   "metadata": {},
   "outputs": [],
   "source": []
  }
 ],
 "metadata": {
  "kernelspec": {
   "display_name": "stl",
   "language": "python",
   "name": "python3"
  },
  "language_info": {
   "codemirror_mode": {
    "name": "ipython",
    "version": 3
   },
   "file_extension": ".py",
   "mimetype": "text/x-python",
   "name": "python",
   "nbconvert_exporter": "python",
   "pygments_lexer": "ipython3",
   "version": "3.10.14"
  }
 },
 "nbformat": 4,
 "nbformat_minor": 5
}
